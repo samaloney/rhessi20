{
 "cells": [
  {
   "cell_type": "code",
   "execution_count": null,
   "id": "0447bca6",
   "metadata": {
    "slideshow": {
     "slide_type": "skip"
    }
   },
   "outputs": [],
   "source": [
    "%matplotlib notebook"
   ]
  },
  {
   "cell_type": "code",
   "execution_count": null,
   "id": "6eeb2a18",
   "metadata": {},
   "outputs": [],
   "source": [
    "https://mybinder.org/v2/gh/samaloney/rhessi20.git/HEAD"
   ]
  },
  {
   "cell_type": "markdown",
   "id": "475a53a5",
   "metadata": {
    "slideshow": {
     "slide_type": "slide"
    }
   },
   "source": [
    "# stixpy\n",
    "* Aim to be interface for STIX data and analysis in python\n",
    "* net - provides search, download, capabilities through `Fido` interface\n",
    "* timeseries - load, plot and interact with quick look data\n",
    "* science - load, plot and interact with science data"
   ]
  },
  {
   "cell_type": "markdown",
   "id": "195f0fc0",
   "metadata": {
    "slideshow": {
     "slide_type": "slide"
    }
   },
   "source": [
    "# stixpy\n",
    "* Code - https://github.com/samaloney/stixpy\n",
    "* Documentaion - https://stixpy.readthedocs.io/en/latest/index.html\n",
    "* Very early in developement\n",
    "  * subject to large changes\n",
    "  * bugs 100% present\n",
    "* Help wanted and appreciated - doesn't have to be code, issues, bug reports, questions are all welcome and useful but so is code!"
   ]
  },
  {
   "cell_type": "markdown",
   "id": "17c626ec",
   "metadata": {
    "slideshow": {
     "slide_type": "slide"
    }
   },
   "source": [
    "## Imports\n",
    " * Import the functions or objects we need\n",
    " * Register or make available specific clients (e.g. for STIX)"
   ]
  },
  {
   "cell_type": "code",
   "execution_count": null,
   "id": "6e0fc9b0",
   "metadata": {
    "slideshow": {
     "slide_type": "-"
    }
   },
   "outputs": [],
   "source": [
    "import numpy as np\n",
    "from sunpy.net import Fido, attrs as a\n",
    "from sunpy.timeseries import TimeSeries\n",
    "\n",
    "from stixpy.net.client import STIXClient  # Registers the STIXClient with Fido\n",
    "from stixpy import timeseries # Registers the STIX timeseries with TimeSeries\n",
    "from stixpy.science import ScienceData"
   ]
  },
  {
   "cell_type": "markdown",
   "id": "33732f2d",
   "metadata": {
    "slideshow": {
     "slide_type": "slide"
    }
   },
   "source": [
    "## Searching for data with Fido\n",
    "* Unified search interface across a number of packages (sunpy, radiospecta, heliopy, stixpy) and data providers (VSO, JSOC, NOAA, ...) more info [here](https://docs.sunpy.org/en/stable/guide/acquiring_data/fido.html)\n",
    "* Powerful query capabilities and result filtering\n",
    "* Auto complete for discovery"
   ]
  },
  {
   "cell_type": "markdown",
   "id": "3a3c0dea",
   "metadata": {
    "slideshow": {
     "slide_type": "slide"
    }
   },
   "source": [
    "## Searching for data with Fido"
   ]
  },
  {
   "cell_type": "code",
   "execution_count": null,
   "id": "c29c3cc9",
   "metadata": {
    "slideshow": {
     "slide_type": "-"
    }
   },
   "outputs": [],
   "source": [
    "a.Instrument"
   ]
  },
  {
   "cell_type": "markdown",
   "id": "4318d4b4",
   "metadata": {
    "slideshow": {
     "slide_type": "slide"
    }
   },
   "source": [
    "## Searching for data with Fido"
   ]
  },
  {
   "cell_type": "code",
   "execution_count": null,
   "id": "5abfd3c1",
   "metadata": {
    "slideshow": {
     "slide_type": "-"
    }
   },
   "outputs": [],
   "source": [
    "a.stix.DataType"
   ]
  },
  {
   "cell_type": "markdown",
   "id": "48d47375",
   "metadata": {
    "slideshow": {
     "slide_type": "slide"
    }
   },
   "source": [
    "## Searching for data with Fido"
   ]
  },
  {
   "cell_type": "code",
   "execution_count": null,
   "id": "3cf482fa",
   "metadata": {
    "slideshow": {
     "slide_type": "-"
    }
   },
   "outputs": [],
   "source": [
    "query = Fido.search(a.Time('2021-05-06T00:00', '2021-05-08T23:59'),\n",
    "                    a.Instrument.stix, a.stix.DataType.ql)"
   ]
  },
  {
   "cell_type": "markdown",
   "id": "692e442a",
   "metadata": {
    "slideshow": {
     "slide_type": "slide"
    }
   },
   "source": [
    "## Searching for data with Fido"
   ]
  },
  {
   "cell_type": "code",
   "execution_count": null,
   "id": "0bc40337",
   "metadata": {
    "slideshow": {
     "slide_type": "-"
    }
   },
   "outputs": [],
   "source": [
    "query"
   ]
  },
  {
   "cell_type": "markdown",
   "id": "d727b041",
   "metadata": {
    "slideshow": {
     "slide_type": "slide"
    }
   },
   "source": [
    "## Searching  for quick look data with Fido"
   ]
  },
  {
   "cell_type": "code",
   "execution_count": null,
   "id": "899043cf",
   "metadata": {},
   "outputs": [],
   "source": [
    "ql_lc_query =  Fido.search(a.Time('2021-05-06T00:00', '2021-05-08T23:59'),\n",
    "                           a.Instrument.stix,\n",
    "                           a.stix.DataProduct.ql_lightcurve)\n",
    "ql_lc_query"
   ]
  },
  {
   "cell_type": "markdown",
   "id": "756dba5c",
   "metadata": {
    "slideshow": {
     "slide_type": "slide"
    }
   },
   "source": [
    "## Downloading quick look data with Fido"
   ]
  },
  {
   "cell_type": "code",
   "execution_count": null,
   "id": "b8408800",
   "metadata": {
    "slideshow": {
     "slide_type": "-"
    }
   },
   "outputs": [],
   "source": [
    "ql_lc_res = Fido.fetch(ql_lc_query)\n",
    "ql_lc_res"
   ]
  },
  {
   "cell_type": "markdown",
   "id": "1c4a52a4",
   "metadata": {
    "slideshow": {
     "slide_type": "slide"
    }
   },
   "source": [
    "## stixpy.timeseries\n",
    "* Built on `sunpy.timeseries`\n",
    "* Focus on quick look data and currently supports\n",
    "  * Quick look light curves\n",
    "  * Quick look background\n",
    "  * Quick look variance\n",
    "* For more information check the docs [here](https://stixpy.readthedocs.io/en/latest/code_ref/timeseries.html)"
   ]
  },
  {
   "cell_type": "markdown",
   "id": "e9af5d09",
   "metadata": {
    "slideshow": {
     "slide_type": "slide"
    }
   },
   "source": [
    "## Loading and plotting quick look data"
   ]
  },
  {
   "cell_type": "code",
   "execution_count": null,
   "id": "57735b6e",
   "metadata": {},
   "outputs": [],
   "source": [
    "ql_lc = TimeSeries(ql_lc_res)\n",
    "ql_lc"
   ]
  },
  {
   "cell_type": "code",
   "execution_count": null,
   "id": "2fd72d34",
   "metadata": {
    "scrolled": true,
    "slideshow": {
     "slide_type": "slide"
    }
   },
   "outputs": [],
   "source": [
    "ql_lc[0].plot();"
   ]
  },
  {
   "cell_type": "markdown",
   "id": "2b01b1b2",
   "metadata": {
    "slideshow": {
     "slide_type": "slide"
    }
   },
   "source": [
    "## Loading and plotting quick look data +\n",
    "* Can do a better job by concatenating all the individual timeseries together `concatenate=True`"
   ]
  },
  {
   "cell_type": "code",
   "execution_count": null,
   "id": "3c90baad",
   "metadata": {},
   "outputs": [],
   "source": [
    "ql_lc_combined = TimeSeries(ql_lc_res, concatenate=True)\n",
    "ql_lc_combined"
   ]
  },
  {
   "cell_type": "markdown",
   "id": "c06b0f59",
   "metadata": {
    "slideshow": {
     "slide_type": "slide"
    }
   },
   "source": [
    "## Load and plot"
   ]
  },
  {
   "cell_type": "code",
   "execution_count": null,
   "id": "8bab3377",
   "metadata": {
    "slideshow": {
     "slide_type": "slide"
    }
   },
   "outputs": [],
   "source": [
    "ql_lc_combined.plot();"
   ]
  },
  {
   "cell_type": "markdown",
   "id": "5e605ac4",
   "metadata": {
    "slideshow": {
     "slide_type": "slide"
    }
   },
   "source": [
    "## An aside - SolarOrbiter constraints and STIX operations\n",
    " * SOLO is a deep space mission - telemetry limited (or at leas the budget for TM is limited)\n",
    " * All instruments optimised to meet science requirements while meeting TM constraints\n",
    " * Spectrograms relatively cheap on TM (sum 32 x 12 detector and pixels on-board)\n",
    " * Most if not all flares will have at least Spectrograms"
   ]
  },
  {
   "cell_type": "markdown",
   "id": "55b19729",
   "metadata": {
    "slideshow": {
     "slide_type": "slide"
    }
   },
   "source": [
    "## stixpy.science\n",
    "* Science data products\n",
    "  * RawPixelData - essentially a dump of on the on-board archive (times x detectors x 12 x energies)\n",
    "  * CompressedPixelData - compress on board-archive (times x detectors x 12 x energies)\n",
    "  * SummedCompressedPixelData - nominally sum from 12 to 4 pixels and compress (times x detectors x 4 x energies)"
   ]
  },
  {
   "cell_type": "markdown",
   "id": "f6422157",
   "metadata": {
    "slideshow": {
     "slide_type": "subslide"
    }
   },
   "source": [
    "## stixpy.science\n",
    "* Science data products\n",
    "  * Visibilities - sum pixel and subtract (A-C, B-D) and compress (times x 2 x energies)\n",
    "  * Spectrogram - sum over detectors and pixels and compress (times x energies)\n",
    "  "
   ]
  },
  {
   "cell_type": "markdown",
   "id": "84e9201c",
   "metadata": {
    "slideshow": {
     "slide_type": "slide"
    }
   },
   "source": [
    "## stixpy.science\n",
    " * Share common interface to data and plotting\n",
    " * `plot_pixels` - pixel data only, plot of individual pixels\n",
    " * `plot_timeseries` - sum over detector and pixel and energies\n",
    " * `plot_spectrogram` - sum over detectors and pixels\n",
    " * `get_data` - all method to extract the underling data (counts, time, triggers, ...)\n",
    " * For more information check the documentation [here](https://stixpy.readthedocs.io/en/latest/code_ref/science.html)"
   ]
  },
  {
   "cell_type": "markdown",
   "id": "a285e9ea",
   "metadata": {
    "slideshow": {
     "slide_type": "slide"
    }
   },
   "source": [
    "## Searching for Spectrograms with Fido"
   ]
  },
  {
   "cell_type": "code",
   "execution_count": null,
   "id": "9364ca14",
   "metadata": {},
   "outputs": [],
   "source": [
    "sci_query =  Fido.search(a.Time('2021-05-07T18:30', '2021-05-07T20:00'),\n",
    "                         a.Instrument.stix, a.stix.DataProduct.sci_xray_spec)\n",
    "sci_query"
   ]
  },
  {
   "cell_type": "markdown",
   "id": "21cdfe94",
   "metadata": {
    "slideshow": {
     "slide_type": "slide"
    }
   },
   "source": [
    "## Downloading Spectrograms with Fido"
   ]
  },
  {
   "cell_type": "code",
   "execution_count": null,
   "id": "12ba4442",
   "metadata": {},
   "outputs": [],
   "source": [
    "spec_dl = Fido.fetch(sci_query[0][1])\n",
    "spec_dl"
   ]
  },
  {
   "cell_type": "markdown",
   "id": "5d913356",
   "metadata": {
    "slideshow": {
     "slide_type": "slide"
    }
   },
   "source": [
    "## Load Spectrogram"
   ]
  },
  {
   "cell_type": "code",
   "execution_count": null,
   "id": "0400e0d1",
   "metadata": {},
   "outputs": [],
   "source": [
    "spec = ScienceData.from_fits(spec_dl[0])\n",
    "type(spec)"
   ]
  },
  {
   "cell_type": "code",
   "execution_count": null,
   "id": "6b56ab43",
   "metadata": {
    "slideshow": {
     "slide_type": "slide"
    }
   },
   "outputs": [],
   "source": [
    "spec"
   ]
  },
  {
   "cell_type": "markdown",
   "id": "2aa6e034",
   "metadata": {
    "slideshow": {
     "slide_type": "subslide"
    }
   },
   "source": [
    "###  Plot Spectrogram"
   ]
  },
  {
   "cell_type": "code",
   "execution_count": null,
   "id": "6238f8a7",
   "metadata": {
    "scrolled": true,
    "slideshow": {
     "slide_type": "slide"
    }
   },
   "outputs": [],
   "source": [
    "spec.plot_spectrogram();"
   ]
  },
  {
   "cell_type": "code",
   "execution_count": null,
   "id": "5c388dfb",
   "metadata": {
    "slideshow": {
     "slide_type": "slide"
    }
   },
   "outputs": [],
   "source": [
    "tids = (np.arange(0, 601)*5)\n",
    "ti = np.vstack([tids[:-1], tids[1:]]).T\n",
    "spec.plot_spectrogram(energy_indices=range(1,28), time_indices=ti)\n",
    "                     #e.g. time_indices = [[0, 5][5, 10], [10, 15]]"
   ]
  },
  {
   "cell_type": "markdown",
   "id": "352c3761",
   "metadata": {
    "slideshow": {
     "slide_type": "slide"
    }
   },
   "source": [
    "## Searching for PixelData with Fido"
   ]
  },
  {
   "cell_type": "code",
   "execution_count": null,
   "id": "4ed434d1",
   "metadata": {
    "slideshow": {
     "slide_type": "-"
    }
   },
   "outputs": [],
   "source": [
    "pixel_query =  Fido.search(a.Time('2021-05-07T18:30', '2021-05-07T20:00'),\n",
    "                           a.Instrument.stix, a.stix.DataProduct.sci_xray_cpd)\n",
    "pixel_query"
   ]
  },
  {
   "cell_type": "markdown",
   "id": "ad9c0909",
   "metadata": {
    "slideshow": {
     "slide_type": "slide"
    }
   },
   "source": [
    "## Downloading Spectrograms with Fido"
   ]
  },
  {
   "cell_type": "code",
   "execution_count": null,
   "id": "9da1c7d3",
   "metadata": {},
   "outputs": [],
   "source": [
    "pixel_dl = Fido.fetch(pixel_query[0][-2])\n",
    "pixel_dl"
   ]
  },
  {
   "cell_type": "markdown",
   "id": "e26ec82e",
   "metadata": {
    "slideshow": {
     "slide_type": "slide"
    }
   },
   "source": [
    "## Load PixelData"
   ]
  },
  {
   "cell_type": "code",
   "execution_count": null,
   "id": "8a470f5e",
   "metadata": {},
   "outputs": [],
   "source": [
    "cpd = ScienceData.from_fits(pixel_dl[0])\n",
    "type(cpd)"
   ]
  },
  {
   "cell_type": "code",
   "execution_count": null,
   "id": "37ad4180",
   "metadata": {
    "slideshow": {
     "slide_type": "slide"
    }
   },
   "outputs": [],
   "source": [
    "cpd"
   ]
  },
  {
   "cell_type": "code",
   "execution_count": null,
   "id": "620856da",
   "metadata": {
    "slideshow": {
     "slide_type": "slide"
    }
   },
   "outputs": [],
   "source": [
    "cpd.plot_spectrogram();"
   ]
  },
  {
   "cell_type": "code",
   "execution_count": null,
   "id": "4accb397",
   "metadata": {
    "scrolled": true,
    "slideshow": {
     "slide_type": "slide"
    }
   },
   "outputs": [],
   "source": [
    "cpd.plot_pixels()"
   ]
  },
  {
   "cell_type": "code",
   "execution_count": null,
   "id": "2e5630e9",
   "metadata": {},
   "outputs": [],
   "source": []
  }
 ],
 "metadata": {
  "celltoolbar": "Slideshow",
  "kernelspec": {
   "display_name": "Python 3 (ipykernel)",
   "language": "python",
   "name": "python3"
  },
  "language_info": {
   "codemirror_mode": {
    "name": "ipython",
    "version": 3
   },
   "file_extension": ".py",
   "mimetype": "text/x-python",
   "name": "python",
   "nbconvert_exporter": "python",
   "pygments_lexer": "ipython3",
   "version": "3.7.0"
  },
  "rise": {
   "rise": {
    "scroll": true
   }
  }
 },
 "nbformat": 4,
 "nbformat_minor": 5
}
