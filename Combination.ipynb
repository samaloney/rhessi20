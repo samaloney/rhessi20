{
 "cells": [
  {
   "cell_type": "code",
   "execution_count": null,
   "id": "2306aad5",
   "metadata": {},
   "outputs": [],
   "source": [
    "%matplotlib inline\n",
    "from datetime import datetime\n",
    "\n",
    "import astropy.constants as const\n",
    "import numpy as np\n",
    "\n",
    "from sunpy.coordinates import get_horizons_coord\n",
    "from sunpy.net import Fido, attrs as a\n",
    "from sunpy.timeseries import TimeSeries\n",
    "\n",
    "from matplotlib import pyplot as plt\n",
    "from matplotlib.colors import LogNorm\n",
    "\n",
    "from radiospectra import net\n",
    "from radiospectra.spectrogram2 import Spectrogram\n",
    "from stixpy.net.client import STIXClient\n",
    "from stixpy.science import ScienceData"
   ]
  },
  {
   "cell_type": "markdown",
   "id": "1a5f100b",
   "metadata": {},
   "source": [
    "# Combined search for GOES XRS, EOVSA, and STIX data"
   ]
  },
  {
   "cell_type": "code",
   "execution_count": null,
   "id": "55632ca7",
   "metadata": {},
   "outputs": [],
   "source": [
    "query = Fido.search(a.Time('2021-05-07T16:30', '2021-05-07T20:30'),\n",
    "                    a.Instrument.xrs | a.Instrument.eovsa | \n",
    "                    (a.Instrument.stix & a.stix.DataProduct.sci_xray_spec))"
   ]
  },
  {
   "cell_type": "code",
   "execution_count": null,
   "id": "44e7593f",
   "metadata": {},
   "outputs": [],
   "source": [
    "query"
   ]
  },
  {
   "cell_type": "markdown",
   "id": "9293cd89",
   "metadata": {},
   "source": [
    "## Download specific results\n",
    "* GOES 16, EOVSA Cross Pol .."
   ]
  },
  {
   "cell_type": "code",
   "execution_count": null,
   "id": "ef417b2d",
   "metadata": {},
   "outputs": [],
   "source": [
    "goes_file = Fido.fetch(query[0][1])\n",
    "eovsa_file = Fido.fetch(query[1][1])\n",
    "stix_file = Fido.fetch(query[2][1])"
   ]
  },
  {
   "cell_type": "markdown",
   "id": "c9152f50",
   "metadata": {},
   "source": [
    "## Load data in containers\n",
    "* radiodospectra `Spectrogram` for EOVSA data\n",
    "* sunpy `TimeSeries` for GOES XRS\n",
    "* stixpy `SciencdData` for STIS"
   ]
  },
  {
   "cell_type": "code",
   "execution_count": null,
   "id": "ab985229",
   "metadata": {},
   "outputs": [],
   "source": [
    "eovsa_spec = Spectrogram(eovsa_file[0])\n",
    "goes_timeseries = TimeSeries(goes_file[0])\n",
    "stix_spec = ScienceData.from_fits(stix_file[0])"
   ]
  },
  {
   "cell_type": "markdown",
   "id": "ab02e108",
   "metadata": {},
   "source": [
    "##  Light travel time"
   ]
  },
  {
   "cell_type": "code",
   "execution_count": null,
   "id": "9a834003",
   "metadata": {},
   "outputs": [],
   "source": [
    "solo_pos = get_horizons_coord('SOLO', time='2021-05-07T19:00')\n",
    "earth_pos = get_horizons_coord('399', time='2021-05-07T19:00')\n",
    "light_tt = (solo_pos.radius - earth_pos.radius)/const.c\n",
    "light_tt.to('s')"
   ]
  },
  {
   "cell_type": "markdown",
   "id": "f6ed87ad",
   "metadata": {},
   "source": [
    "## Modify STIX data\n",
    "* Correct for light travel time to Earth\n",
    "* Not recommended - will be included in software soon"
   ]
  },
  {
   "cell_type": "code",
   "execution_count": null,
   "id": "e2875ad9",
   "metadata": {},
   "outputs": [],
   "source": [
    "stix_spec.data['time'] = stix_spec.data['time'] - light_tt.to('s')"
   ]
  },
  {
   "cell_type": "markdown",
   "id": "69aea7a9",
   "metadata": {},
   "source": [
    "## Extact summed time series\n",
    "* STIX 22-80 KeV\n",
    "* EOVSA 12 - 15 GHz"
   ]
  },
  {
   "cell_type": "code",
   "execution_count": null,
   "id": "b757a8ed",
   "metadata": {},
   "outputs": [],
   "source": [
    "stix_data_22_70keV = stix_spec.get_data(energy_indices=[[16,26]], time_indices=(np.arange(612)*5).reshape(-1,2))\n",
    "eovsa_fmask = np.argwhere((eovsa_spec.frequencies.value > 12) & (eovsa_spec.frequencies.value < 15))\n",
    "eovsa_flux_12_15ghz = eovsa_spec.data[eovsa_fmask].sum(axis=0)"
   ]
  },
  {
   "cell_type": "code",
   "execution_count": null,
   "id": "45fbd643",
   "metadata": {},
   "outputs": [],
   "source": [
    "stx_min, stix_max = stix_data_22_70keV[0].reshape(-1).value.min(), stix_data_22_70keV[0].reshape(-1).value.max()"
   ]
  },
  {
   "cell_type": "code",
   "execution_count": null,
   "id": "1097a237",
   "metadata": {
    "scrolled": false
   },
   "outputs": [],
   "source": [
    "# Set up plot\n",
    "fig, axes = plt.subplots(4, 1, sharex=True, dpi=100, figsize=(6, 9))\n",
    "\n",
    "# Twin axes for STIX/GOES\n",
    "ax0_twin = axes[0].twinx()\n",
    "\n",
    "# Plot goes and STIX time series\n",
    "goes_timeseries.plot(axes=axes[0])\n",
    "stix_spec.plot_timeseries(energy_indices=[[1,10],[10,25]], axes=ax0_twin)\n",
    "\n",
    "# Hack to add legends\n",
    "goes_lines = axes[0].get_lines()\n",
    "stix_lines = ax0_twin.get_lines()\n",
    "goes_lines[0].set_color('k')\n",
    "goes_lines[1].set_color('m')\n",
    "axes[0].get_legend().remove()\n",
    "axes[0].legend()\n",
    "ax0_twin.legend(stix_lines, labels=['STIX 4-12 KeV', 'STIX 12-63 keV'])\n",
    "\n",
    "# Plot STIX spectrogram\n",
    "stix_spec.plot_spectrogram(axes=axes[1])\n",
    "axes[1].set_yscale('log')\n",
    "\n",
    "# Plot STIX spectrogram\n",
    "eovsa_spec.plot(axes=axes[2], norm=LogNorm())\n",
    "axes[2].set_title('')\n",
    "axes[2].set_yscale('log')\n",
    "axes[2].set_xlim(datetime(2021, 5, 7, 18, 48), datetime(2021, 5, 7, 19, 20))\n",
    "\n",
    "\n",
    "# Plot EOVSA, STIX timeseris\n",
    "axes[3].plot(eovsa_spec.times.datetime, eovsa_flux_12_15ghz.reshape(-1)/eovsa_flux_12_15ghz.reshape(-1).max(),\n",
    "            label='EOVSA 12-15 GHz')\n",
    "axes[3].plot((stix_data_22_70keV[2]).datetime, (stix_data_22_70keV[0].reshape(-1).value-stx_min)/(stix_max-stx_min),\n",
    "             label='STIX 22-70 keV')\n",
    "axes[3].legend()\n",
    "axes[3].set_ylim(0, 1.2)\n",
    "fig.subplots_adjust(hspace=0)"
   ]
  },
  {
   "cell_type": "code",
   "execution_count": null,
   "id": "925a256d",
   "metadata": {},
   "outputs": [],
   "source": []
  }
 ],
 "metadata": {
  "celltoolbar": "Slideshow",
  "kernelspec": {
   "display_name": "Python 3 (ipykernel)",
   "language": "python",
   "name": "python3"
  },
  "language_info": {
   "codemirror_mode": {
    "name": "ipython",
    "version": 3
   },
   "file_extension": ".py",
   "mimetype": "text/x-python",
   "name": "python",
   "nbconvert_exporter": "python",
   "pygments_lexer": "ipython3",
   "version": "3.7.0"
  }
 },
 "nbformat": 4,
 "nbformat_minor": 5
}
